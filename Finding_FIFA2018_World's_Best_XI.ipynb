{
 "cells": [
  {
   "cell_type": "markdown",
   "metadata": {},
   "source": [
    "<h1> Finding Best XI for FIFA World Cup 2018</h1>\n",
    "<hr>\n",
    "Once in every 4 years, we celebrate FIFA World Cup.\n",
    "All priorities change to footbaall, and all predications change to the teams and players that perform in the tournament.\n",
    "\n",
    "So, it is quite exciting to <b>\"Predict the World's Best XI players\"</b> in FIFA 2018 using Python for analytics."
   ]
  },
  {
   "cell_type": "code",
   "execution_count": 2,
   "metadata": {},
   "outputs": [
    {
     "data": {
      "text/html": [
       "<div>\n",
       "<style scoped>\n",
       "    .dataframe tbody tr th:only-of-type {\n",
       "        vertical-align: middle;\n",
       "    }\n",
       "\n",
       "    .dataframe tbody tr th {\n",
       "        vertical-align: top;\n",
       "    }\n",
       "\n",
       "    .dataframe thead th {\n",
       "        text-align: right;\n",
       "    }\n",
       "</style>\n",
       "<table border=\"1\" class=\"dataframe\">\n",
       "  <thead>\n",
       "    <tr style=\"text-align: right;\">\n",
       "      <th></th>\n",
       "      <th>Name</th>\n",
       "      <th>Nationality</th>\n",
       "      <th>National_Position</th>\n",
       "      <th>National_Kit</th>\n",
       "      <th>Club</th>\n",
       "      <th>Club_Position</th>\n",
       "      <th>Club_Kit</th>\n",
       "      <th>Club_Joining</th>\n",
       "      <th>Contract_Expiry</th>\n",
       "      <th>Rating</th>\n",
       "      <th>...</th>\n",
       "      <th>Long_Shots</th>\n",
       "      <th>Curve</th>\n",
       "      <th>Freekick_Accuracy</th>\n",
       "      <th>Penalties</th>\n",
       "      <th>Volleys</th>\n",
       "      <th>GK_Positioning</th>\n",
       "      <th>GK_Diving</th>\n",
       "      <th>GK_Kicking</th>\n",
       "      <th>GK_Handling</th>\n",
       "      <th>GK_Reflexes</th>\n",
       "    </tr>\n",
       "  </thead>\n",
       "  <tbody>\n",
       "    <tr>\n",
       "      <th>0</th>\n",
       "      <td>Cristiano Ronaldo</td>\n",
       "      <td>Portugal</td>\n",
       "      <td>LS</td>\n",
       "      <td>7.0</td>\n",
       "      <td>Real Madrid</td>\n",
       "      <td>LW</td>\n",
       "      <td>7.0</td>\n",
       "      <td>07/01/2009</td>\n",
       "      <td>2021.0</td>\n",
       "      <td>94</td>\n",
       "      <td>...</td>\n",
       "      <td>90</td>\n",
       "      <td>81</td>\n",
       "      <td>76</td>\n",
       "      <td>85</td>\n",
       "      <td>88</td>\n",
       "      <td>14</td>\n",
       "      <td>7</td>\n",
       "      <td>15</td>\n",
       "      <td>11</td>\n",
       "      <td>11</td>\n",
       "    </tr>\n",
       "    <tr>\n",
       "      <th>1</th>\n",
       "      <td>Lionel Messi</td>\n",
       "      <td>Argentina</td>\n",
       "      <td>RW</td>\n",
       "      <td>10.0</td>\n",
       "      <td>FC Barcelona</td>\n",
       "      <td>RW</td>\n",
       "      <td>10.0</td>\n",
       "      <td>07/01/2004</td>\n",
       "      <td>2018.0</td>\n",
       "      <td>93</td>\n",
       "      <td>...</td>\n",
       "      <td>88</td>\n",
       "      <td>89</td>\n",
       "      <td>90</td>\n",
       "      <td>74</td>\n",
       "      <td>85</td>\n",
       "      <td>14</td>\n",
       "      <td>6</td>\n",
       "      <td>15</td>\n",
       "      <td>11</td>\n",
       "      <td>8</td>\n",
       "    </tr>\n",
       "    <tr>\n",
       "      <th>2</th>\n",
       "      <td>Neymar</td>\n",
       "      <td>Brazil</td>\n",
       "      <td>LW</td>\n",
       "      <td>10.0</td>\n",
       "      <td>FC Barcelona</td>\n",
       "      <td>LW</td>\n",
       "      <td>11.0</td>\n",
       "      <td>07/01/2013</td>\n",
       "      <td>2021.0</td>\n",
       "      <td>92</td>\n",
       "      <td>...</td>\n",
       "      <td>77</td>\n",
       "      <td>79</td>\n",
       "      <td>84</td>\n",
       "      <td>81</td>\n",
       "      <td>83</td>\n",
       "      <td>15</td>\n",
       "      <td>9</td>\n",
       "      <td>15</td>\n",
       "      <td>9</td>\n",
       "      <td>11</td>\n",
       "    </tr>\n",
       "    <tr>\n",
       "      <th>3</th>\n",
       "      <td>Luis Suárez</td>\n",
       "      <td>Uruguay</td>\n",
       "      <td>LS</td>\n",
       "      <td>9.0</td>\n",
       "      <td>FC Barcelona</td>\n",
       "      <td>ST</td>\n",
       "      <td>9.0</td>\n",
       "      <td>07/11/2014</td>\n",
       "      <td>2021.0</td>\n",
       "      <td>92</td>\n",
       "      <td>...</td>\n",
       "      <td>86</td>\n",
       "      <td>86</td>\n",
       "      <td>84</td>\n",
       "      <td>85</td>\n",
       "      <td>88</td>\n",
       "      <td>33</td>\n",
       "      <td>27</td>\n",
       "      <td>31</td>\n",
       "      <td>25</td>\n",
       "      <td>37</td>\n",
       "    </tr>\n",
       "    <tr>\n",
       "      <th>4</th>\n",
       "      <td>Manuel Neuer</td>\n",
       "      <td>Germany</td>\n",
       "      <td>GK</td>\n",
       "      <td>1.0</td>\n",
       "      <td>FC Bayern</td>\n",
       "      <td>GK</td>\n",
       "      <td>1.0</td>\n",
       "      <td>07/01/2011</td>\n",
       "      <td>2021.0</td>\n",
       "      <td>92</td>\n",
       "      <td>...</td>\n",
       "      <td>16</td>\n",
       "      <td>14</td>\n",
       "      <td>11</td>\n",
       "      <td>47</td>\n",
       "      <td>11</td>\n",
       "      <td>91</td>\n",
       "      <td>89</td>\n",
       "      <td>95</td>\n",
       "      <td>90</td>\n",
       "      <td>89</td>\n",
       "    </tr>\n",
       "    <tr>\n",
       "      <th>5</th>\n",
       "      <td>De Gea</td>\n",
       "      <td>Spain</td>\n",
       "      <td>GK</td>\n",
       "      <td>1.0</td>\n",
       "      <td>Manchester Utd</td>\n",
       "      <td>GK</td>\n",
       "      <td>1.0</td>\n",
       "      <td>07/01/2011</td>\n",
       "      <td>2019.0</td>\n",
       "      <td>90</td>\n",
       "      <td>...</td>\n",
       "      <td>12</td>\n",
       "      <td>21</td>\n",
       "      <td>19</td>\n",
       "      <td>40</td>\n",
       "      <td>13</td>\n",
       "      <td>86</td>\n",
       "      <td>88</td>\n",
       "      <td>87</td>\n",
       "      <td>85</td>\n",
       "      <td>90</td>\n",
       "    </tr>\n",
       "    <tr>\n",
       "      <th>6</th>\n",
       "      <td>Robert Lewandowski</td>\n",
       "      <td>Poland</td>\n",
       "      <td>LS</td>\n",
       "      <td>9.0</td>\n",
       "      <td>FC Bayern</td>\n",
       "      <td>ST</td>\n",
       "      <td>9.0</td>\n",
       "      <td>07/01/2014</td>\n",
       "      <td>2021.0</td>\n",
       "      <td>90</td>\n",
       "      <td>...</td>\n",
       "      <td>82</td>\n",
       "      <td>77</td>\n",
       "      <td>76</td>\n",
       "      <td>81</td>\n",
       "      <td>86</td>\n",
       "      <td>8</td>\n",
       "      <td>15</td>\n",
       "      <td>12</td>\n",
       "      <td>6</td>\n",
       "      <td>10</td>\n",
       "    </tr>\n",
       "    <tr>\n",
       "      <th>7</th>\n",
       "      <td>Gareth Bale</td>\n",
       "      <td>Wales</td>\n",
       "      <td>RS</td>\n",
       "      <td>11.0</td>\n",
       "      <td>Real Madrid</td>\n",
       "      <td>RW</td>\n",
       "      <td>11.0</td>\n",
       "      <td>09/02/2013</td>\n",
       "      <td>2022.0</td>\n",
       "      <td>90</td>\n",
       "      <td>...</td>\n",
       "      <td>90</td>\n",
       "      <td>86</td>\n",
       "      <td>85</td>\n",
       "      <td>76</td>\n",
       "      <td>76</td>\n",
       "      <td>5</td>\n",
       "      <td>15</td>\n",
       "      <td>11</td>\n",
       "      <td>15</td>\n",
       "      <td>6</td>\n",
       "    </tr>\n",
       "  </tbody>\n",
       "</table>\n",
       "<p>8 rows × 53 columns</p>\n",
       "</div>"
      ],
      "text/plain": [
       "                 Name Nationality National_Position  National_Kit  \\\n",
       "0   Cristiano Ronaldo    Portugal                LS           7.0   \n",
       "1        Lionel Messi   Argentina                RW          10.0   \n",
       "2              Neymar      Brazil                LW          10.0   \n",
       "3         Luis Suárez     Uruguay                LS           9.0   \n",
       "4        Manuel Neuer     Germany                GK           1.0   \n",
       "5              De Gea       Spain                GK           1.0   \n",
       "6  Robert Lewandowski      Poland                LS           9.0   \n",
       "7         Gareth Bale       Wales                RS          11.0   \n",
       "\n",
       "             Club Club_Position  Club_Kit Club_Joining  Contract_Expiry  \\\n",
       "0     Real Madrid            LW       7.0   07/01/2009           2021.0   \n",
       "1    FC Barcelona            RW      10.0   07/01/2004           2018.0   \n",
       "2    FC Barcelona            LW      11.0   07/01/2013           2021.0   \n",
       "3    FC Barcelona            ST       9.0   07/11/2014           2021.0   \n",
       "4       FC Bayern            GK       1.0   07/01/2011           2021.0   \n",
       "5  Manchester Utd            GK       1.0   07/01/2011           2019.0   \n",
       "6       FC Bayern            ST       9.0   07/01/2014           2021.0   \n",
       "7     Real Madrid            RW      11.0   09/02/2013           2022.0   \n",
       "\n",
       "   Rating  ... Long_Shots Curve Freekick_Accuracy Penalties  Volleys  \\\n",
       "0      94  ...         90    81                76        85       88   \n",
       "1      93  ...         88    89                90        74       85   \n",
       "2      92  ...         77    79                84        81       83   \n",
       "3      92  ...         86    86                84        85       88   \n",
       "4      92  ...         16    14                11        47       11   \n",
       "5      90  ...         12    21                19        40       13   \n",
       "6      90  ...         82    77                76        81       86   \n",
       "7      90  ...         90    86                85        76       76   \n",
       "\n",
       "  GK_Positioning GK_Diving  GK_Kicking  GK_Handling  GK_Reflexes  \n",
       "0             14         7          15           11           11  \n",
       "1             14         6          15           11            8  \n",
       "2             15         9          15            9           11  \n",
       "3             33        27          31           25           37  \n",
       "4             91        89          95           90           89  \n",
       "5             86        88          87           85           90  \n",
       "6              8        15          12            6           10  \n",
       "7              5        15          11           15            6  \n",
       "\n",
       "[8 rows x 53 columns]"
      ]
     },
     "execution_count": 2,
     "metadata": {},
     "output_type": "execute_result"
    }
   ],
   "source": [
    "#importing dataset and all required libraries\n",
    "import pandas as pd\n",
    "import seaborn as sns\n",
    "import numpy as np\n",
    "import matplotlib.pyplot as plt\n",
    "%matplotlib inline\n",
    "\n",
    "data = pd.read_csv('C:/Users/Princy/Desktop/Projects/FullData.csv')\n",
    "data.head(8)"
   ]
  },
  {
   "cell_type": "markdown",
   "metadata": {},
   "source": [
    "The 53 columns include the following attributes -\n",
    "<pre>\n",
    "1. Name                      27. Vision\n",
    "2. Nationality               28. Composure\n",
    "3. National_Position         29. Crossing\n",
    "4. National_Kit              30. Short_Pass\n",
    "5. CLub                      31. Long_Pass\n",
    "6. CLub_Position             32. Acceleration\n",
    "7. Contract_Enquiry          33. Speed\n",
    "8. Rating                    34. Stamina\n",
    "9. Height                    35. Strength\n",
    "10. Weight                   36. Balance\n",
    "11. Preferred_Foot           37. Agility\n",
    "12. Birth_Date               38. Jumping\n",
    "13. Age                      39. Heading\n",
    "14. Preferred_Position       40. Shot_Power\n",
    "15. Work_Rate                41. Finishing\n",
    "16. Weak_Foot                42. Long_Shots\n",
    "17. Skill_Moves              43. Curve\n",
    "18. Ball_Control             44. Freekick_Accuracy\n",
    "19. Dribbling                45. Penalties\n",
    "20. Marking                  46. Volleys\n",
    "21. Sliding_Tackle           47. GK_Positioning\n",
    "22. Standing_Tackle          48. GK_Diving\n",
    "23. Aggression               49. GK_Kicking\n",
    "24. Reactions                50. GK_Handling\n",
    "25. Attacking_Position       51. GK_Reflexes\n",
    "26. Interceptions            52. Club_Kit\n",
    "</pre>"
   ]
  },
  {
   "cell_type": "markdown",
   "metadata": {},
   "source": [
    "By observation, we found certain redundant and unwanted columns, which we removed by writing the following code -"
   ]
  },
  {
   "cell_type": "code",
   "execution_count": 3,
   "metadata": {},
   "outputs": [
    {
     "data": {
      "text/plain": [
       "Index(['Name', 'Nationality', 'National_Position', 'National_Kit', 'Club',\n",
       "       'Club_Position', 'Club_Kit', 'Club_Joining', 'Contract_Expiry',\n",
       "       'Rating', 'Height', 'Weight', 'Preffered_Foot', 'Birth_Date', 'Age',\n",
       "       'Preffered_Position', 'Work_Rate', 'Weak_foot', 'Skill_Moves',\n",
       "       'Ball_Control', 'Dribbling', 'Marking', 'Sliding_Tackle',\n",
       "       'Standing_Tackle', 'Aggression', 'Reactions', 'Attacking_Position',\n",
       "       'Interceptions', 'Vision', 'Composure', 'Crossing', 'Short_Pass',\n",
       "       'Long_Pass', 'Acceleration', 'Speed', 'Stamina', 'Strength', 'Balance',\n",
       "       'Agility', 'Jumping', 'Heading', 'Shot_Power', 'Finishing',\n",
       "       'Long_Shots', 'Curve', 'Freekick_Accuracy', 'Penalties', 'Volleys',\n",
       "       'GK_Positioning', 'GK_Diving', 'GK_Kicking', 'GK_Handling',\n",
       "       'GK_Reflexes'],\n",
       "      dtype='object')"
      ]
     },
     "execution_count": 3,
     "metadata": {},
     "output_type": "execute_result"
    }
   ],
   "source": [
    "data.columns"
   ]
  },
  {
   "cell_type": "code",
   "execution_count": 4,
   "metadata": {},
   "outputs": [],
   "source": [
    "#del data['National_Kit']\n",
    "del data['Club_Kit']"
   ]
  },
  {
   "cell_type": "markdown",
   "metadata": {},
   "source": [
    "For the initial analysis, we start by plotting the different nationalities with their count in the dataset."
   ]
  },
  {
   "cell_type": "code",
   "execution_count": 5,
   "metadata": {},
   "outputs": [
    {
     "data": {
      "text/plain": [
       "<matplotlib.axes._subplots.AxesSubplot at 0x220ba03b2c8>"
      ]
     },
     "execution_count": 5,
     "metadata": {},
     "output_type": "execute_result"
    },
    {
     "data": {
      "image/png": "[encoded data removed]",
      "text/plain": [
       "<Figure size 1080x2304 with 1 Axes>"
      ]
     },
     "metadata": {
      "needs_background": "light"
     },
     "output_type": "display_data"
    }
   ],
   "source": [
    "#plotting all nations\n",
    "plt.figure(figsize = (15, 32))\n",
    "sns.countplot(y = data.Nationality[:30], palette = \"Set2\")"
   ]
  },
  {
   "cell_type": "markdown",
   "metadata": {},
   "source": [
    "The graph allows us to conclude that most of players come from England, Argentina, Spain, France, and Brazil.\n"
   ]
  },
  {
   "cell_type": "markdown",
   "metadata": {},
   "source": [
    "Moving on with analysis, we plot different count plots for players' age, preferred_position, rating, club, etc."
   ]
  },
  {
   "cell_type": "code",
   "execution_count": 6,
   "metadata": {},
   "outputs": [
    {
     "data": {
      "text/plain": [
       "<matplotlib.axes._subplots.AxesSubplot at 0x220bab82b48>"
      ]
     },
     "execution_count": 6,
     "metadata": {},
     "output_type": "execute_result"
    },
    {
     "data": {
      "image/png": "[encoded data removed]",
      "text/plain": [
       "<Figure size 1080x432 with 1 Axes>"
      ]
     },
     "metadata": {
      "needs_background": "light"
     },
     "output_type": "display_data"
    }
   ],
   "source": [
    "plt.figure(figsize = (15, 6))\n",
    "sns.countplot(x = 'Age', data = data)"
   ]
  },
  {
   "cell_type": "markdown",
   "metadata": {},
   "source": [
    "We can infer from the graph that majority of players age between 20 and 29, with most being 25 years of age."
   ]
  },
  {
   "cell_type": "code",
   "execution_count": 7,
   "metadata": {},
   "outputs": [
    {
     "data": {
      "text/plain": [
       "<matplotlib.axes._subplots.AxesSubplot at 0x220bac73b48>"
      ]
     },
     "execution_count": 7,
     "metadata": {},
     "output_type": "execute_result"
    },
    {
     "data": {
      "image/png": "[encoded data removed]",
      "text/plain": [
       "<Figure size 1080x432 with 1 Axes>"
      ]
     },
     "metadata": {
      "needs_background": "light"
     },
     "output_type": "display_data"
    }
   ],
   "source": [
    "plt.figure(figsize = (15, 6))\n",
    "sns.countplot(x = \"Preffered_Position\", data = data[:40])"
   ]
  },
  {
   "cell_type": "code",
   "execution_count": 8,
   "metadata": {},
   "outputs": [
    {
     "data": {
      "text/plain": [
       "<matplotlib.axes._subplots.AxesSubplot at 0x220bad494c8>"
      ]
     },
     "execution_count": 8,
     "metadata": {},
     "output_type": "execute_result"
    },
    {
     "data": {
      "image/png": "[encoded data removed]",
      "text/plain": [
       "<Figure size 1080x432 with 1 Axes>"
      ]
     },
     "metadata": {
      "needs_background": "light"
     },
     "output_type": "display_data"
    }
   ],
   "source": [
    "plt.figure(figsize = (15, 6))\n",
    "sns.countplot(x= 'Rating', data = data)"
   ]
  },
  {
   "cell_type": "markdown",
   "metadata": {},
   "source": [
    "Most players are rated arounf 60 - 70 / 100 with an average of 67."
   ]
  },
  {
   "cell_type": "code",
   "execution_count": 9,
   "metadata": {},
   "outputs": [
    {
     "data": {
      "text/plain": [
       "<matplotlib.axes._subplots.AxesSubplot at 0x220badb9b48>"
      ]
     },
     "execution_count": 9,
     "metadata": {},
     "output_type": "execute_result"
    },
    {
     "data": {
      "image/png": "[encoded data removed]",
      "text/plain": [
       "<Figure size 1080x432 with 1 Axes>"
      ]
     },
     "metadata": {
      "needs_background": "light"
     },
     "output_type": "display_data"
    }
   ],
   "source": [
    "plt.figure(figsize = (15, 6))\n",
    "sns.countplot(x = 'Club', data = data[:40])"
   ]
  },
  {
   "cell_type": "markdown",
   "metadata": {},
   "source": [
    "Most players come from Real Madrid football club."
   ]
  },
  {
   "cell_type": "markdown",
   "metadata": {},
   "source": [
    "To start with finding the world's best playing XI, we start with considering the 4-3-3 formation for the team, which makes 4 defenders, 3 best mid-fielders, and 3 best attackers."
   ]
  },
  {
   "cell_type": "markdown",
   "metadata": {},
   "source": [
    "Firstly, for the goalkeeper, we analyze players based on following parameters -\n",
    "\n",
    "1. Shot Stopper : one who is good at stopping shots\n",
    "2. Sweeper : one with strong playing feet for passes."
   ]
  },
  {
   "cell_type": "code",
   "execution_count": 10,
   "metadata": {},
   "outputs": [],
   "source": [
    "#weights assigned\n",
    "a = 0.5\n",
    "b = 1\n",
    "c = 2\n",
    "d = 3\n",
    "\n",
    "#calculating parameters\n",
    "data['gk_Shot_Stopper'] = (b*data.Reactions + b*data.Composure + a*data.Speed + a*data.Strength + c*data.Jumping + b*data.GK_Positioning + c*data.GK_Diving + d*data.GK_Reflexes + b*data.GK_Handling)/(2*a + 4*b + 2*c + 1*d)\n",
    "data['gk_Sweeper'] = (b*data.Reactions + b*data.Composure + b*data.Speed + a*data.Short_Pass + a*data.Long_Pass + b*data.Jumping + b*data.GK_Positioning + b*data.GK_Diving + d*data.GK_Reflexes + b*data.GK_Handling + d*data.GK_Kicking + c*data.Vision)/(2*a + 4*b + 3*c + 2*d)"
   ]
  },
  {
   "cell_type": "code",
   "execution_count": 11,
   "metadata": {},
   "outputs": [
    {
     "data": {
      "text/plain": [
       "Text(0, 0.5, 'Shot Stopping Score')"
      ]
     },
     "execution_count": 11,
     "metadata": {},
     "output_type": "execute_result"
    },
    {
     "data": {
      "image/png": "[encoded data removed]",
      "text/plain": [
       "<Figure size 720x432 with 1 Axes>"
      ]
     },
     "metadata": {
      "needs_background": "light"
     },
     "output_type": "display_data"
    }
   ],
   "source": [
    "#Plotting these parameters with sequential data\n",
    "plt.figure(figsize = (10, 6))\n",
    "sd = data.sort_values('gk_Shot_Stopper', ascending = False)[:5]\n",
    "x1 = np.array(list(sd['Name']))\n",
    "y1 = np.array(list(sd['gk_Shot_Stopper']))\n",
    "sns.barplot(x1, y1, palette = \"colorblind\")\n",
    "plt.ylabel(\"Shot Stopping Score\")"
   ]
  },
  {
   "cell_type": "markdown",
   "metadata": {},
   "source": [
    "The plot clearly shows <b>Manuel Neuer</b> as the best goalkeeper for the shot-stopper parameter for judgement."
   ]
  },
  {
   "cell_type": "code",
   "execution_count": 12,
   "metadata": {},
   "outputs": [
    {
     "data": {
      "text/plain": [
       "Text(0, 0.5, 'Sweeping Score')"
      ]
     },
     "execution_count": 12,
     "metadata": {},
     "output_type": "execute_result"
    },
    {
     "data": {
      "image/png": "[encoded data removed]",
      "text/plain": [
       "<Figure size 1080x432 with 1 Axes>"
      ]
     },
     "metadata": {
      "needs_background": "light"
     },
     "output_type": "display_data"
    }
   ],
   "source": [
    "plt.figure(figsize = (15, 6))\n",
    "sd = data.sort_values('gk_Sweeper', ascending = False)[:5]\n",
    "x2 = np.array(list(sd['Name']))\n",
    "y2 = np.array(list(sd['gk_Sweeper']))\n",
    "sns.barplot(x2, y2, palette = \"colorblind\")\n",
    "plt.ylabel(\"Sweeping Score\")"
   ]
  },
  {
   "cell_type": "markdown",
   "metadata": {},
   "source": [
    "We again find <b>Manuel Neuer</b> as the best goalkeeper even as a Sweeper.\n",
    "Hence, we can conclude <b>Manuel Neuer</b> as the best choice for the goalkeeper position for the <b>World Cup 2018</b>."
   ]
  },
  {
   "cell_type": "markdown",
   "metadata": {},
   "source": [
    "Next, for defenders, we need to find <b> 2 Centre Backs</b> and <b> 2 Wing Backs</b>"
   ]
  },
  {
   "cell_type": "code",
   "execution_count": 13,
   "metadata": {},
   "outputs": [],
   "source": [
    "#Choosing Defenders\n",
    "data['df_centre_backs'] = ( d*data.Reactions + c*data.Interceptions + d*data.Sliding_Tackle + d*data.Standing_Tackle + b*data.Vision+ b*data.Composure + b*data.Crossing +a*data.Short_Pass + b*data.Long_Pass+ c*data.Acceleration + b*data.Speed\n",
    "+ d*data.Stamina + d*data.Jumping + d*data.Heading + b*data.Long_Shots + d*data.Marking + c*data.Aggression)/(6*b + 3*c + 7*d)\n",
    "data['df_wb_Wing_Backs'] = (b*data.Ball_Control + a*data.Dribbling + a*data.Marking + d*data.Sliding_Tackle + d*data.Standing_Tackle + a*data.Attacking_Position + c*data.Vision + c*data.Crossing + b*data.Short_Pass + c*data.Long_Pass + d*data.Acceleration +d*data.Speed + c*data.Stamina + a*data.Finishing)/(4*a + 2*b + 4*c + 4*d)"
   ]
  },
  {
   "cell_type": "code",
   "execution_count": 14,
   "metadata": {},
   "outputs": [
    {
     "data": {
      "text/plain": [
       "Text(0, 0.5, 'LCB Score')"
      ]
     },
     "execution_count": 14,
     "metadata": {},
     "output_type": "execute_result"
    },
    {
     "data": {
      "image/png": "[encoded data removed]",
      "text/plain": [
       "<Figure size 1080x432 with 1 Axes>"
      ]
     },
     "metadata": {
      "needs_background": "light"
     },
     "output_type": "display_data"
    }
   ],
   "source": [
    "#plotting Left Centre back and Right Center back\n",
    "plt.figure(figsize = (15, 6))\n",
    "sd = data[(data['Club_Position'] == 'LCB')].sort_values('df_centre_backs', ascending = False)[:5]\n",
    "x2 = np.array(list(sd['Name']))\n",
    "y2 = np.array(list(sd['df_centre_backs']))\n",
    "sns.barplot(x2, y2, palette = sns.color_palette(\"Blues_d\"))\n",
    "plt.ylabel(\"LCB Score\")"
   ]
  },
  {
   "cell_type": "markdown",
   "metadata": {},
   "source": [
    "It can be observed that <b>Sergio Ramos</b> is the best <b>Left Center Back Defender</b>."
   ]
  },
  {
   "cell_type": "code",
   "execution_count": 15,
   "metadata": {},
   "outputs": [
    {
     "data": {
      "text/plain": [
       "Text(0, 0.5, 'RCB Score')"
      ]
     },
     "execution_count": 15,
     "metadata": {},
     "output_type": "execute_result"
    },
    {
     "data": {
      "image/png": "[encoded data removed]",
      "text/plain": [
       "<Figure size 720x360 with 1 Axes>"
      ]
     },
     "metadata": {
      "needs_background": "light"
     },
     "output_type": "display_data"
    }
   ],
   "source": [
    "#plotting Right Centre Back\n",
    "plt.figure(figsize = (10, 5))\n",
    "sd = data[(data['Club_Position'] == 'RCB')].sort_values('df_centre_backs', ascending = False)[:5]\n",
    "x2 = np.array(list(sd['Name']))\n",
    "y2 = np.array(list(sd['df_centre_backs']))\n",
    "sns.barplot(x2, y2, palette = sns.color_palette(\"Blues_d\"))\n",
    "plt.ylabel(\"RCB Score\")"
   ]
  },
  {
   "cell_type": "markdown",
   "metadata": {},
   "source": [
    "The plot helps in concluding <b>Azpillicueta</b> as the best <b>Right Centre back Defender</b>.\n",
    "\n",
    "Moving on to Best <b>Left wing back/ left back</b>-"
   ]
  },
  {
   "cell_type": "code",
   "execution_count": 16,
   "metadata": {},
   "outputs": [
    {
     "data": {
      "text/plain": [
       "Text(0, 0.5, 'Left Back Score')"
      ]
     },
     "execution_count": 16,
     "metadata": {},
     "output_type": "execute_result"
    },
    {
     "data": {
      "image/png": "[encoded data removed]",
      "text/plain": [
       "<Figure size 720x432 with 1 Axes>"
      ]
     },
     "metadata": {
      "needs_background": "light"
     },
     "output_type": "display_data"
    }
   ],
   "source": [
    "plt.figure(figsize = (10, 6))\n",
    "sd = data[(data['Club_Position'] == 'LWB') | (data['Club_Position'] == 'LB')].sort_values('df_wb_Wing_Backs', ascending = False)[:5]\n",
    "x4 = np.array(list(sd['Name']))\n",
    "y4 = np.array(list(sd['df_wb_Wing_Backs']))\n",
    "sns.barplot(x4, y4, palette = sns.color_palette(\"Blues_d\"))\n",
    "plt.ylabel(\"Left Back Score\")"
   ]
  },
  {
   "cell_type": "markdown",
   "metadata": {},
   "source": [
    "As, </b>David Alaba's</b> team could not qualify in the World Cup 2018, we will pick <b>Alex Sandro</b> as best <b>Left Wing Back Defender</b>."
   ]
  },
  {
   "cell_type": "code",
   "execution_count": 17,
   "metadata": {},
   "outputs": [
    {
     "data": {
      "text/plain": [
       "Text(0, 0.5, 'RIght Back Score')"
      ]
     },
     "execution_count": 17,
     "metadata": {},
     "output_type": "execute_result"
    },
    {
     "data": {
      "image/png": "[encoded data removed]",
      "text/plain": [
       "<Figure size 720x360 with 1 Axes>"
      ]
     },
     "metadata": {
      "needs_background": "light"
     },
     "output_type": "display_data"
    }
   ],
   "source": [
    "#for RWB\n",
    "plt.figure(figsize = (10, 5))\n",
    "sd= data[(data['Club_Position'] == 'RWB') | (data['Club_Position'] == 'RB')].sort_values('df_wb_Wing_Backs', ascending = False)[:5]\n",
    "x5 = np.array(list(sd['Name']))\n",
    "y5 = np.array(list(sd['df_wb_Wing_Backs']))\n",
    "sns.barplot(x5, y5, palette = sns.color_palette(\"Blues_d\"))\n",
    "plt.ylabel(\"RIght Back Score\")"
   ]
  },
  {
   "cell_type": "markdown",
   "metadata": {},
   "source": [
    "It is evident that <b>Kyle Walker</b> is the best <b> Right Wing Back</b> for the World Cup 2018."
   ]
  },
  {
   "cell_type": "markdown",
   "metadata": {},
   "source": [
    "Now, as the game formation is 4-3-3, we choose <b>3 midfielders</b>.\n",
    "We find them based on <b>Playmaker</b>(one who moves the ball to attacking 3rd from defence to midfield), <b>Beast</b>(one with loads of energy) and <b>Controller</b>(one orchestrating midfield play based on needs) parameters."
   ]
  },
  {
   "cell_type": "code",
   "execution_count": 18,
   "metadata": {},
   "outputs": [],
   "source": [
    "#Midfielders' params\n",
    "data['mf_playmaker'] = (d*data.Ball_Control + d*data.Dribbling + a*data.Marking + d*data.Reactions + d*data.Vision + c*data.Attacking_Position + c*data.Crossing + d*data.Short_Pass + c*data.Long_Pass + c*data.Curve + b*data.Long_Shots + c*data.Freekick_Accuracy)/(1*a + 1*b + 4*c + 4*d)\n",
    "data['mf_beast'] = (d*data.Agility + c*data.Balance + b*data.Jumping + c*data.Strength + d*data.Stamina + a*data.Speed + c*data.Acceleration + d*data.Short_Pass + c*data.Aggression + d*data.Reactions + b*data.Marking + b*data.Standing_Tackle + b*data.Sliding_Tackle + b*data.Interceptions)/(1*a + 5*b + 4*c + 4*d)\n",
    "data['mf_controller'] = (b*data.Weak_foot + d*data.Ball_Control + a*data.Dribbling + a*data.Marking + a*data.Reactions + c*data.Vision + c*data.Composure + d*data.Short_Pass + d*data.Long_Pass)/(2*c + 3*d + 4*a)"
   ]
  },
  {
   "cell_type": "code",
   "execution_count": 19,
   "metadata": {},
   "outputs": [
    {
     "data": {
      "text/plain": [
       "Text(0, 0.5, 'PlayMaker Score')"
      ]
     },
     "execution_count": 19,
     "metadata": {},
     "output_type": "execute_result"
    },
    {
     "data": {
      "image/png": "[encoded data removed]",
      "text/plain": [
       "<Figure size 720x360 with 1 Axes>"
      ]
     },
     "metadata": {
      "needs_background": "light"
     },
     "output_type": "display_data"
    }
   ],
   "source": [
    "plt.figure(figsize=(10,5))\n",
    " \n",
    "ss = data[(data['Club_Position'] == 'CAM') | (data['Club_Position'] == 'LAM') | (data['Club_Position'] == 'RAM')].sort_values('mf_playmaker', ascending=False)[:5]\n",
    "x3 = np.array(list(ss['Name']))\n",
    "y3 = np.array(list(ss['mf_playmaker']))\n",
    "sns.barplot(x3, y3, palette=sns.diverging_palette(145, 280, s=85, l=25, n=5))\n",
    "plt.ylabel(\"PlayMaker Score\")"
   ]
  },
  {
   "cell_type": "markdown",
   "metadata": {},
   "source": [
    "<b> Mesut Ozil </b> comes out as the best <b>Playmaker</b> for World Cup 2018."
   ]
  },
  {
   "cell_type": "code",
   "execution_count": 20,
   "metadata": {},
   "outputs": [
    {
     "data": {
      "text/plain": [
       "Text(0, 0.5, 'Beast Score')"
      ]
     },
     "execution_count": 20,
     "metadata": {},
     "output_type": "execute_result"
    },
    {
     "data": {
      "image/png": "[encoded data removed]",
      "text/plain": [
       "<Figure size 720x360 with 1 Axes>"
      ]
     },
     "metadata": {
      "needs_background": "light"
     },
     "output_type": "display_data"
    }
   ],
   "source": [
    "plt.figure(figsize = (10, 5))\n",
    "ss = data[(data['Club_Position'] == 'RCM') | (data['Club_Position'] == 'RM')].sort_values('mf_beast', ascending = False)[:5]\n",
    "x2 = np.array(list(ss['Name']))\n",
    "y2 = np.array(list(ss['mf_beast']))\n",
    "sns.barplot(x2, y2, palette = sns.diverging_palette(145, 280, s = 85, l = 25, n = 5))\n",
    "plt.ylabel(\"Beast Score\")"
   ]
  },
  {
   "cell_type": "markdown",
   "metadata": {},
   "source": [
    "By analysis, we find <b>N' Golo Kante</b> as best <b>Beast/Right Centre Midfielder</b>."
   ]
  },
  {
   "cell_type": "code",
   "execution_count": 21,
   "metadata": {},
   "outputs": [
    {
     "data": {
      "text/plain": [
       "Text(0, 0.5, 'Controller Score')"
      ]
     },
     "execution_count": 21,
     "metadata": {},
     "output_type": "execute_result"
    },
    {
     "data": {
      "image/png": "[encoded data removed]",
      "text/plain": [
       "<Figure size 720x360 with 1 Axes>"
      ]
     },
     "metadata": {
      "needs_background": "light"
     },
     "output_type": "display_data"
    }
   ],
   "source": [
    "plt.figure(figsize = (10, 5))\n",
    "ss = data[(data['Club_Position'] == 'LCM') | (data['Club_Position'] == 'LM')].sort_values('mf_controller', ascending = False)[:5]\n",
    "x1 = np.array(list(ss['Name']))\n",
    "y1 = np.array(list(ss['mf_controller']))\n",
    "sns.barplot(x1, y1, palette = sns.diverging_palette(145, 280, s = 85, l = 25, n=5))\n",
    "plt.ylabel(\"Controller Score\")"
   ]
  },
  {
   "cell_type": "markdown",
   "metadata": {},
   "source": [
    "<b>Iniesta</b> comes as the best <b>controller/Left Central Modfielder</b>."
   ]
  },
  {
   "cell_type": "markdown",
   "metadata": {},
   "source": [
    "Finally, for finding the best attacker, we analyze <b>Attacking Left Wing</b>(one attacking from the left flank), <b>Attacking Right Wing</b>(one attacking from the right flank) and <b>Striker</b>(one attacking from the center) as parameters."
   ]
  },
  {
   "cell_type": "code",
   "execution_count": 22,
   "metadata": {},
   "outputs": [],
   "source": [
    "#calculating parameters\n",
    "data['att_left_wing'] = (c*data.Weak_foot + c*data.Ball_Control + c*data.Dribbling + c*data.Speed + d*data.Acceleration + b*data.Vision + c*data.Crossing + b*data.Short_Pass + b*data.Long_Pass + b*data.Aggression + b*data.Agility + a*data.Curve + c*data.Long_Shots + b*data.Freekick_Accuracy + d*data.Finishing)/(a + 6*b + 6*c + 2*d)\n",
    "data['att_right_wing'] = (c*data.Weak_foot + c*data.Ball_Control + c*data.Dribbling + c*data.Speed + d*data.Acceleration + b*data.Vision + c*data.Crossing + b*data.Short_Pass + b*data.Long_Pass + b*data.Aggression + b*data.Agility + a*data.Curve + c*data.Long_Shots + b*data.Freekick_Accuracy + d*data.Finishing)/(a + 6*b + 6*c + 2*d)\n",
    "data['att_striker'] = (b*data.Weak_foot + b*data.Ball_Control + a*data.Vision + b*data.Aggression + b*data.Agility + a*data.Curve + a*data.Long_Shots + d*data.Balance + d*data.Finishing + d*data.Heading + c*data.Jumping + c*data.Dribbling)/(3*a + 4*b + 2*c + 3*d)\n"
   ]
  },
  {
   "cell_type": "code",
   "execution_count": 23,
   "metadata": {},
   "outputs": [
    {
     "data": {
      "text/plain": [
       "<Figure size 720x360 with 0 Axes>"
      ]
     },
     "metadata": {},
     "output_type": "display_data"
    }
   ],
   "source": [
    "plt.figure(figsize = (10, 5))\n",
    "ss = data[(data['Club_Position'] == 'LW') | (data['Club_Position'] == 'LM') | (data['Club_Position'] == 'LS')].sort_values('att_left_wing', ascending = False)[:5]\n"
   ]
  },
  {
   "cell_type": "markdown",
   "metadata": {},
   "source": [
    "As guessed, <b>Cristiano Ronaldo</b> is the best <b>Left Wing Attacker</b> for the World Cup 2018.\n",
    "\n"
   ]
  },
  {
   "cell_type": "code",
   "execution_count": 32,
   "metadata": {},
   "outputs": [
    {
     "data": {
      "text/plain": [
       "Text(0, 0.5, 'Striker')"
      ]
     },
     "execution_count": 32,
     "metadata": {},
     "output_type": "execute_result"
    },
    {
     "data": {
      "image/png": "[encoded data removed]",
      "text/plain": [
       "<Figure size 864x288 with 1 Axes>"
      ]
     },
     "metadata": {
      "needs_background": "light"
     },
     "output_type": "display_data"
    }
   ],
   "source": [
    "#plotting RW\n",
    "plt.figure(figsize = (12, 4))\n",
    "ss = data[(data['Club_Position'] == 'ST') | (data['Club_Position'] == 'LS') | (data['Club_Position'] == 'RS') | (data['Club_Position'] == 'CF')].sort_values('att_striker', ascending = False)[:5]\n",
    "x3 = np.array(list(ss['Name']))\n",
    "y3 = np.array(list(ss['att_striker']))\n",
    "sns.barplot(x3, y3, palette =sns.diverging_palette(255, 133, l= 60, n = 5, center = 'dark'))\n",
    "plt.ylabel(\"Striker\")"
   ]
  },
  {
   "cell_type": "markdown",
   "metadata": {},
   "source": [
    "<b>Robert Lewandowski</b> is the best <b>Right Wing Attacker</b> for the World Cup 2018."
   ]
  },
  {
   "cell_type": "markdown",
   "metadata": {},
   "source": [
    "<b><h3>Conclusion</h3></b>\n",
    "<h3><hr></h3>\n",
    "\n",
    "The below representation clearly shows the World's Best Playing XI for World Cup 2018 in the ,<b>4-3-3</b> lineup -\n",
    "<br>\n",
    "<br>\n",
    "<br>\n",
    "\n",
    "\n",
    "<pre>\n",
    "                                            <b>Robert Lewandowski</b>\n",
    "    \n",
    "    \n",
    "    \n",
    "            <b>Cristiano Ronaldo</b>                                                  <b>Lionel Messi</b>\n",
    "        \n",
    "        \n",
    "        \n",
    "                                                <b>Mesut Ozil</b>\n",
    "\n",
    "            <b>Andres Iniesta</b>                                                      <b>N'Golo Kante</b>\n",
    "            \n",
    "            \n",
    "\n",
    "        <b>Alex Sandro</b>                                                                   <b>Kyle Walker</b>\n",
    "        \n",
    "\n",
    "                            <b>Sergio Ramos</b>                        <b>Cesar Azpilicueta</b>\n",
    "\n",
    "            \n",
    "                                               <b>Manuel Neuer</b>\n"
   ]
  },
  {
   "cell_type": "code",
   "execution_count": null,
   "metadata": {},
   "outputs": [],
   "source": []
  }
 ],
 "metadata": {
  "kernelspec": {
   "display_name": "Python 3",
   "language": "python",
   "name": "python3"
  },
  "language_info": {
   "codemirror_mode": {
    "name": "ipython",
    "version": 3
   },
   "file_extension": ".py",
   "mimetype": "text/x-python",
   "name": "python",
   "nbconvert_exporter": "python",
   "pygments_lexer": "ipython3",
   "version": "3.7.6"
  }
 },
 "nbformat": 4,
 "nbformat_minor": 4
}
